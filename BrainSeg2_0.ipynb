{
 "cells": [
  {
   "cell_type": "code",
   "execution_count": null,
   "metadata": {},
   "outputs": [],
   "source": []
  },
  {
   "cell_type": "code",
   "execution_count": null,
   "metadata": {},
   "outputs": [],
   "source": [
    "TRAIN_DATASET_PATH_P = 'data/Processed_Data'\n",
    "IMG_HEIGHT, IMG_WIDTH, IMG_CHANNELS = 240, 240, 1\n",
    "NUM_CLASSES = 1"
   ]
  },
  {
   "cell_type": "code",
   "execution_count": null,
   "metadata": {},
   "outputs": [],
   "source": [
    "model = unet()\n",
    "model.compile(optimizer=Adam(lr=1e-5), loss=dice_coef_loss,\n",
    "                  metrics=[dice_coef, 'binary_accuracy'])\n",
    "model.summary()"
   ]
  },
  {
   "cell_type": "code",
   "execution_count": null,
   "metadata": {},
   "outputs": [],
   "source": [
    "import os\n",
    "from keras.preprocessing.image import ImageDataGenerator\n",
    "from keras.optimizers import Adam\n",
    "\n",
    "model.compile(optimizer=Adam(lr=2e-4), \n",
    "              loss=[dice_coef_loss], \n",
    "           metrics = [dice_coef, 'binary_accuracy'])\n",
    "\n",
    "\n",
    "# create a data generator for training, validation, and testing data\n",
    "data_gen = ImageDataGenerator(rescale=1./255)\n",
    "\n",
    "train_data = data_gen.flow_from_directory(os.path.join(TRAIN_DATASET_PATH_P, 'train'),\n",
    "                                          target_size=(IMG_HEIGHT, IMG_WIDTH),\n",
    "                                          color_mode='grayscale',\n",
    "                                          batch_size=32,\n",
    "                                          class_mode='input')\n",
    "\n",
    "valid_data = data_gen.flow_from_directory(os.path.join(TRAIN_DATASET_PATH_P, 'validation'),\n",
    "                                          target_size=(IMG_HEIGHT, IMG_WIDTH),\n",
    "                                          color_mode='grayscale',\n",
    "                                          batch_size=32,\n",
    "                                          class_mode='input')\n",
    "\n",
    "test_data = data_gen.flow_from_directory(os.path.join(TRAIN_DATASET_PATH_P, 'test'),\n",
    "                                          target_size=(IMG_HEIGHT, IMG_WIDTH),\n",
    "                                          color_mode='grayscale',\n",
    "                                          batch_size=1,\n",
    "                                          class_mode=None)\n",
    "\n",
    "# loss_history = model.fit(x = train_vol,\n",
    "#                        y = train_seg,\n",
    "#                          batch_size = 16,\n",
    "#                   epochs = 50,\n",
    "#                   validation_data =(test_vol,test_seg) ,\n",
    "#                   callbacks=callbacks_list)\n",
    "\n",
    "# train the model\n",
    "history = model.fit(train_data, steps_per_epoch = 526 // 32,  epochs=3, validation_data=valid_data)"
   ]
  },
  {
   "cell_type": "code",
   "execution_count": null,
   "metadata": {},
   "outputs": [],
   "source": [
    "import matplotlib.pyplot as plt\n",
    "\n",
    "# load the test image, ground truth, and prediction\n",
    "dir = os.path.join(TRAIN_DATASET_PATH_P, 'test', '010')\n",
    "\n",
    "\n",
    "test_image = np.array(Image.open(os.path.join(dir,'flair.jpg')).convert('L').resize((IMG_HEIGHT, IMG_WIDTH)))\n",
    "test_seg = np.array(Image.open(os.path.join(dir,'seg.jpg')).convert('L').resize((IMG_HEIGHT, IMG_WIDTH)))\n",
    "pred_seg = model.predict(np.expand_dims(test_image, axis=0))[0,:,:,:]\n",
    "\n",
    "# plot the test image, ground truth, and prediction\n",
    "fig, axs = plt.subplots(1, 3, figsize=(10, 5))\n",
    "\n",
    "axs[0].imshow(test_image, cmap='gray')\n",
    "axs[0].set_title('Test Image')\n",
    "\n",
    "axs[1].imshow(test_seg, cmap='gray')\n",
    "axs[1].set_title('Ground Truth')\n",
    "\n",
    "axs[2].imshow(pred_seg, cmap='gray')\n",
    "axs[2].set_title('Prediction')\n",
    "\n",
    "plt.show()"
   ]
  }
 ],
 "metadata": {
  "kernelspec": {
   "display_name": "Python 3",
   "language": "python",
   "name": "python3"
  },
  "language_info": {
   "codemirror_mode": {
    "name": "ipython",
    "version": 3
   },
   "file_extension": ".py",
   "mimetype": "text/x-python",
   "name": "python",
   "nbconvert_exporter": "python",
   "pygments_lexer": "ipython3",
   "version": "3.10.10"
  },
  "orig_nbformat": 4
 },
 "nbformat": 4,
 "nbformat_minor": 2
}
